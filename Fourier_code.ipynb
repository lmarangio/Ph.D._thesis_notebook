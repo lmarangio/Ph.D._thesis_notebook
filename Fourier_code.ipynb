{
 "cells": [
  {
   "cell_type": "code",
   "execution_count": 1,
   "metadata": {
    "scrolled": true
   },
   "outputs": [],
   "source": [
    "using ArbNumerics, LinearAlgebra\n",
    "using IntervalArithmetic, IntervalRootFinding\n",
    "using Plots"
   ]
  },
  {
   "cell_type": "code",
   "execution_count": 2,
   "metadata": {},
   "outputs": [
    {
     "data": {
      "text/plain": [
       "Gamma (generic function with 1 method)"
      ]
     },
     "execution_count": 2,
     "metadata": {},
     "output_type": "execute_result"
    }
   ],
   "source": [
    "function Gamma(sigma,n)\n",
    "    return (exp((-n^2*sigma^2)/2))/(sigma*n*sqrt(2*pi))\n",
    "end"
   ]
  },
  {
   "cell_type": "code",
   "execution_count": 3,
   "metadata": {},
   "outputs": [
    {
     "data": {
      "text/plain": [
       "T_prime (generic function with 1 method)"
      ]
     },
     "execution_count": 3,
     "metadata": {},
     "output_type": "execute_result"
    }
   ],
   "source": [
    "function Arnold(x, epsilon, tau)\n",
    "        return x-(epsilon/(2*pi))*sin(2*pi*x)+tau\n",
    "end\n",
    "\n",
    "function Tsuda(x, C, A)\n",
    "    return x+C+A*sin(4*pi*x)\n",
    "end\n",
    "\n",
    "\n",
    "T(x) = 2*x + 0.001*sin(2*pi*x)\n",
    "T_prime(x) = 2 + 2*pi*0.001*cos(2*pi*x)\n",
    "\n",
    "#T(x) = Arnold(x, 1.4, 0.7)\n",
    "#T_prime(x) = 1 - 1.4*cos(2*pi*x)\n",
    "\n",
    "#T(x) = Tsuda(x, 0.1, 0.08)\n",
    "#T_prime(x) = 1 + 4*pi*0.08*cos(4*pi*x)\n",
    "\n"
   ]
  },
  {
   "cell_type": "code",
   "execution_count": 4,
   "metadata": {},
   "outputs": [
    {
     "data": {
      "text/plain": [
       "1-element Array{Root{Interval{Float64}},1}:\n",
       " Root([0.414284, 0.414285], :unique)"
      ]
     },
     "execution_count": 4,
     "metadata": {},
     "output_type": "execute_result"
    }
   ],
   "source": [
    "alpharow = roots(z -> T(z) -1, 0..1)"
   ]
  },
  {
   "cell_type": "code",
   "execution_count": 5,
   "metadata": {},
   "outputs": [
    {
     "data": {
      "text/plain": [
       "2-element Array{Root{Interval{Float64}},1}:\n",
       " Root([0.876624, 0.876625], :unique)\n",
       " Root([0.123375, 0.123376], :unique)"
      ]
     },
     "execution_count": 5,
     "metadata": {},
     "output_type": "execute_result"
    }
   ],
   "source": [
    "betarow = roots( z-> T_prime(z) , 0..1)"
   ]
  },
  {
   "cell_type": "code",
   "execution_count": 6,
   "metadata": {},
   "outputs": [
    {
     "data": {
      "text/plain": [
       "4-element Array{Any,1}:\n",
       " ([0, 0.123376], 0)       \n",
       " ([0.123375, 0.414285], 0)\n",
       " ([0.414284, 0.876625], 1)\n",
       " ([0.876624, 1], 1)       "
      ]
     },
     "execution_count": 6,
     "metadata": {},
     "output_type": "execute_result"
    }
   ],
   "source": [
    "#branches\n",
    "alpha = []\n",
    "alpharow = roots(z -> T(z) -1, 0..1)\n",
    "\n",
    "if length(alpharow) != 0\n",
    "    alpharow = IntervalArithmetic.interval.(alpharow)\n",
    "    for i in length(alpharow)\n",
    "        push!(alpha, alpharow[i])\n",
    "    end\n",
    "end\n",
    "beta = []\n",
    "betarow = roots( z-> T_prime(z) , 0..1)\n",
    "betarow = IntervalArithmetic.interval.(betarow)\n",
    "\n",
    "if length(betarow) != 0\n",
    "    for i in 1:length(betarow)\n",
    "        push!(beta, betarow[i])\n",
    "        beta = reverse(beta)\n",
    "    end\n",
    "end\n",
    "\n",
    "I = sort(vcat(alpha, beta))\n",
    "J = []\n",
    "push!(J, @interval(0, I[1]))\n",
    "for i in 1:length(I)-1\n",
    "    push!(J, @interval(I[i],I[i+1]))\n",
    "end\n",
    "push!(J, @interval(I[length(I)], 1))\n",
    "branches = []\n",
    "\n",
    "sel = 0\n",
    "cont = 0\n",
    "push!(branches, (J[1],sel))\n",
    "\n",
    "for j in 2 : length(J)\n",
    "    \n",
    "    for t in 1:length(alpha)\n",
    "        \n",
    "        if J[j].lo - alpha[t].lo == 0\n",
    "            sel += 1\n",
    "            push!(branches, (J[j],mod(sel,2)))\n",
    "            cont = 1\n",
    "            \n",
    "        end\n",
    "    end\n",
    "    if cont == 0\n",
    "        push!(branches, (J[j],mod(sel,2)))\n",
    "    end\n",
    "    cont = 0\n",
    "end\n",
    "\n",
    "branches"
   ]
  },
  {
   "cell_type": "code",
   "execution_count": 7,
   "metadata": {},
   "outputs": [
    {
     "data": {
      "text/plain": [
       "idx_to_freq (generic function with 1 method)"
      ]
     },
     "execution_count": 7,
     "metadata": {},
     "output_type": "execute_result"
    }
   ],
   "source": [
    "function idx_to_freq(j,k)\n",
    "    # k is the size of the matrix\n",
    "    if j>=0 && j <=k ÷ 2+1\n",
    "        return j-1\n",
    "    end\n",
    "    if j >k ÷ 2+1\n",
    "        return j-k-1\n",
    "    end\n",
    "end "
   ]
  },
  {
   "cell_type": "code",
   "execution_count": 8,
   "metadata": {},
   "outputs": [
    {
     "data": {
      "text/plain": [
       "freq_to_idx (generic function with 1 method)"
      ]
     },
     "execution_count": 8,
     "metadata": {},
     "output_type": "execute_result"
    }
   ],
   "source": [
    "function freq_to_idx(j, k)\n",
    "    # k is the size of the matrix\n",
    "    if j>=0 && j <=k ÷ 2\n",
    "        return j+1\n",
    "    end\n",
    "    if j<0  && abs(j) <=k ÷ 2\n",
    "        return k+j+1\n",
    "    end\n",
    "end"
   ]
  },
  {
   "cell_type": "code",
   "execution_count": 9,
   "metadata": {},
   "outputs": [
    {
     "data": {
      "text/plain": [
       "10000"
      ]
     },
     "execution_count": 9,
     "metadata": {},
     "output_type": "execute_result"
    }
   ],
   "source": [
    "size = 250\n",
    "sizefine = 2000\n",
    "n = 2*size+1\n",
    "nfine = 2*sizefine +1\n",
    "N = 10000 #10000 #could be more, these are points for the fft."
   ]
  },
  {
   "cell_type": "code",
   "execution_count": 10,
   "metadata": {},
   "outputs": [
    {
     "data": {
      "text/plain": [
       "compute_col (generic function with 1 method)"
      ]
     },
     "execution_count": 10,
     "metadata": {},
     "output_type": "execute_result"
    }
   ],
   "source": [
    "function compute_col(k,n)\n",
    "    t = [ArbComplex(0) for s in 1:n]\n",
    "    for i = 0:n-1\n",
    "        x = @interval(i/(n))\n",
    "        y = []\n",
    "        for i in 1: length(branches)\n",
    "            y_aux = roots(z -> T(z) - x - branches[i][2], branches[i][1].lo..branches[i][1].hi)\n",
    "            y = vcat(y,y_aux)\n",
    "        end\n",
    "        \n",
    "        y = sort(IntervalArithmetic.interval.(y))\n",
    "        \n",
    "        if length(y) != 0\n",
    "            for j = 1:length(y)\n",
    "                \n",
    "                h = setinterval(ArbReal(y[j].lo),ArbReal(y[j].hi))\n",
    "                h1 = ArbComplex(0,2*k*pi*h)\n",
    "    \n",
    "                t[i+1] += (1/(abs(T_prime(h))))*exp(h1)\n",
    "            end\n",
    "        end        \n",
    "    end\n",
    "    #alp = setinterval(ArbReal(alpha[1].lo),ArbReal(alpha[1].hi))\n",
    "    #alp1 = ArbComplex(0,2*k*pi*alp)\n",
    "    #t[1] = (1/(abs(T_prime(alp))))*exp(alp1)\n",
    "    return t\n",
    "end\n"
   ]
  },
  {
   "cell_type": "code",
   "execution_count": 11,
   "metadata": {},
   "outputs": [],
   "source": [
    "P = ArbNumerics.ArbComplexMatrix(zeros(ArbComplex,n,n))\n",
    "for j = 1 : n\n",
    "    v = dft(compute_col(idx_to_freq(j,N),N))/(N)\n",
    "    P[:,j] = transpose((vcat(v[1:size], v[N-size:N])))\n",
    "end"
   ]
  },
  {
   "cell_type": "code",
   "execution_count": 12,
   "metadata": {},
   "outputs": [
    {
     "data": {
      "text/plain": [
       "count_purge (generic function with 2 methods)"
      ]
     },
     "execution_count": 12,
     "metadata": {},
     "output_type": "execute_result"
    }
   ],
   "source": [
    "function count_purge(A, plat=-10) \n",
    "    I = 0\n",
    "    R = 0\n",
    "    s = sizeof(A[1,:])\n",
    "    for i = 1:n\n",
    "        for j = 1:n\n",
    "            re, im = real(A[i,j]), imag(A[i,j])\n",
    "            if abs(re) < 10.0^(plat) && re != 0\n",
    "                R += 1\n",
    "            end\n",
    "            if abs(im) < 10.0^(plat) && im != 0\n",
    "                I += 1\n",
    "            end\n",
    "        end\n",
    "    end\n",
    "    return R,I\n",
    "end"
   ]
  },
  {
   "cell_type": "code",
   "execution_count": 13,
   "metadata": {},
   "outputs": [
    {
     "data": {
      "text/plain": [
       "purge_matrix (generic function with 2 methods)"
      ]
     },
     "execution_count": 13,
     "metadata": {},
     "output_type": "execute_result"
    }
   ],
   "source": [
    "function purge(x, plat)\n",
    "    re, im = real(x), imag(x)\n",
    "        if abs(re) < 2.0^(plat)\n",
    "            re = 0\n",
    "        end\n",
    "        if abs(im) < 2.0^(plat)\n",
    "            im = 0\n",
    "        end\n",
    "    return ArbComplex(re, im)\n",
    "end\n",
    "\n",
    "\n",
    "function purge_matrix(A, plat = -10)\n",
    "    for i in 1 : n\n",
    "        for j in 1: n\n",
    "            A[i,j] = purge(A[i,j], plat)\n",
    "        end\n",
    "    end\n",
    "    return A\n",
    "end"
   ]
  },
  {
   "cell_type": "code",
   "execution_count": 14,
   "metadata": {},
   "outputs": [
    {
     "data": {
      "text/plain": [
       "noise_matrix (generic function with 1 method)"
      ]
     },
     "execution_count": 14,
     "metadata": {},
     "output_type": "execute_result"
    }
   ],
   "source": [
    "noise = sigma = 0.05\n",
    "function gauss_transform(x, sigma) \n",
    "    return exp(-(sigma*pi*x)^2)\n",
    "end\n",
    "\n",
    "function noise_matrix(sigma, size) \n",
    "    D = ArbNumerics.ArbComplexMatrix(zeros(ArbComplex,2*size+1,2*size+1))\n",
    "    d = diagm(gauss_transform.(vcat([ArbComplex(j) for j in 0:size],[ArbComplex(float(j)) for j in -size:-1]), sigma))\n",
    "    for i in 1:2*size+1\n",
    "        D[i,i] = d[i,i]\n",
    "    end\n",
    "    return D\n",
    "end\n"
   ]
  },
  {
   "cell_type": "code",
   "execution_count": 15,
   "metadata": {},
   "outputs": [],
   "source": [
    "Pfine = ArbNumerics.ArbComplexMatrix(zeros(ArbComplex,nfine,nfine))\n",
    "for j = 1 : nfine\n",
    "    v = dft(compute_col(idx_to_freq(j,N),N))/(N)\n",
    "    Pfine[:,j] = transpose((vcat(v[1:sizefine], v[N-sizefine:N])))\n",
    "end"
   ]
  },
  {
   "cell_type": "code",
   "execution_count": 16,
   "metadata": {},
   "outputs": [
    {
     "data": {
      "text/plain": [
       "4001×4001 Array{ArbComplex{128},2}:\n",
       "              0.9900823 + 0im  …   0.019 + [+/- 7.52e-5]im\n",
       "       -0.160463 + 0.493855im      [+/- 5.97e-3] + 0.017im\n",
       "       -0.343482 - 0.249554im             -0.013 - 0.009im\n",
       "      0.2762258 - 0.2006898im              0.011 - 0.008im\n",
       "        0.080347 + 0.247283im               0.003 + 0.01im\n",
       " -0.1850168 - [+/- 5.54e-8]im  …  -0.009 + [+/- 1.79e-4]im\n",
       "      0.0376766 - 0.1159566im              0.002 - 0.006im\n",
       "      0.0596026 + 0.0433038im              0.004 + 0.003im\n",
       "     -0.0325334 + 0.0236369im             -0.003 + 0.002im\n",
       "     -0.0059603 - 0.0183439im           -0.0007 - 0.0022im\n",
       " 0.00762477 + [+/- 6.79e-9]im  …   0.0015 - [+/- 2.3e-5]im\n",
       "     -0.0006119 + 0.0018833im           -0.0003 + 0.0009im\n",
       "    0.00019625 + 0.00014259im           -0.0004 - 0.0003im\n",
       "                            ⋮  ⋱                         ⋮\n",
       "    0.00019625 - 0.00014259im           -0.0006 + 0.0005im\n",
       "    -0.0006119 - 0.00188328im  …        -0.0004 - 0.0013im\n",
       " 0.00762477 - [+/- 5.29e-9]im     0.0024 - [+/- 1.76e-5]im\n",
       "     -0.0059603 + 0.0183439im           -0.0012 + 0.0036im\n",
       "     -0.0325334 - 0.0236369im            -0.005 - 0.0034im\n",
       "      0.0596026 - 0.0433038im              0.007 - 0.005im\n",
       "      0.0376766 + 0.1159566im  …            0.003 + 0.01im\n",
       " -0.1850168 + [+/- 5.28e-8]im     -0.014 - [+/- 1.75e-4]im\n",
       "        0.080347 - 0.247283im              0.005 - 0.016im\n",
       "         0.276226 + 0.20069im              0.015 + 0.011im\n",
       "      -0.3434817 + 0.249554im             -0.016 + 0.012im\n",
       "       -0.160463 - 0.493855im  …          -0.006 - 0.019im"
      ]
     },
     "execution_count": 16,
     "metadata": {},
     "output_type": "execute_result"
    }
   ],
   "source": [
    "D = noise_matrix(noise,size)\n",
    "M = D*P\n",
    "\n",
    "Dfine = noise_matrix(noise,sizefine)\n",
    "Mfine = Dfine * Pfine"
   ]
  },
  {
   "cell_type": "code",
   "execution_count": 17,
   "metadata": {},
   "outputs": [
    {
     "data": {
      "text/plain": [
       "4001×4001 Array{ArbComplex{128},2}:\n",
       "              0.9900823 + 0im  …   0.019 + [+/- 7.52e-5]im\n",
       "       -0.160463 + 0.493855im      [+/- 5.97e-3] + 0.017im\n",
       "       -0.343482 - 0.249554im             -0.013 - 0.009im\n",
       "      0.2762258 - 0.2006898im              0.011 - 0.008im\n",
       "        0.080347 + 0.247283im               0.003 + 0.01im\n",
       "             -0.1850168 + 0im  …  -0.009 + [+/- 1.79e-4]im\n",
       "      0.0376766 - 0.1159566im              0.002 - 0.006im\n",
       "      0.0596026 + 0.0433038im              0.004 + 0.003im\n",
       "     -0.0325334 + 0.0236369im             -0.003 + 0.002im\n",
       "     -0.0059603 - 0.0183439im           -0.0007 - 0.0022im\n",
       "             0.00762477 + 0im  …   0.0015 - [+/- 2.3e-5]im\n",
       "              0 + 0.0018833im           -0.0003 + 0.0009im\n",
       "                      0 + 0im           -0.0004 - 0.0003im\n",
       "                            ⋮  ⋱                         ⋮\n",
       "    0.00019625 - 0.00014259im           -0.0006 + 0.0005im\n",
       "    -0.0006119 - 0.00188328im  …        -0.0004 - 0.0013im\n",
       " 0.00762477 - [+/- 5.29e-9]im     0.0024 - [+/- 1.76e-5]im\n",
       "     -0.0059603 + 0.0183439im           -0.0012 + 0.0036im\n",
       "     -0.0325334 - 0.0236369im            -0.005 - 0.0034im\n",
       "      0.0596026 - 0.0433038im              0.007 - 0.005im\n",
       "      0.0376766 + 0.1159566im  …            0.003 + 0.01im\n",
       " -0.1850168 + [+/- 5.28e-8]im     -0.014 - [+/- 1.75e-4]im\n",
       "        0.080347 - 0.247283im              0.005 - 0.016im\n",
       "         0.276226 + 0.20069im              0.015 + 0.011im\n",
       "      -0.3434817 + 0.249554im             -0.016 + 0.012im\n",
       "       -0.160463 - 0.493855im  …          -0.006 - 0.019im"
      ]
     },
     "execution_count": 17,
     "metadata": {},
     "output_type": "execute_result"
    }
   ],
   "source": [
    "M = purge_matrix(M)\n",
    "Mfine = purge_matrix(Mfine)"
   ]
  },
  {
   "cell_type": "code",
   "execution_count": 18,
   "metadata": {},
   "outputs": [
    {
     "data": {
      "text/plain": [
       "func_norm (generic function with 1 method)"
      ]
     },
     "execution_count": 18,
     "metadata": {},
     "output_type": "execute_result"
    }
   ],
   "source": [
    "func_norm(M) = real(sum(abs.(M)))\n",
    "#func_norm(M) = ArbReal(opnorm(M,Inf))"
   ]
  },
  {
   "cell_type": "code",
   "execution_count": 19,
   "metadata": {},
   "outputs": [
    {
     "data": {
      "text/plain": [
       "cofine (generic function with 1 method)"
      ]
     },
     "execution_count": 19,
     "metadata": {},
     "output_type": "execute_result"
    }
   ],
   "source": [
    "function cofine(x,n)\n",
    "    return x *(1 + (1/(sigma*sqrt(2*pi))) + Gamma(sigma,size)+Gamma(sigma,sizefine))*Gamma(sigma,sizefine)*(1+Gamma(sigma,size))^n\n",
    "end"
   ]
  },
  {
   "cell_type": "code",
   "execution_count": 21,
   "metadata": {
    "scrolled": true
   },
   "outputs": [
    {
     "name": "stdout",
     "output_type": "stream",
     "text": [
      "2.7e+1\n",
      "1.6e+1\n",
      "1.3e+1\n",
      "1.7e+1\n",
      "1.7e+1\n",
      "1.2e+1\n",
      "9e+0\n",
      "1e+1\n",
      "1e+1\n",
      "1e+1\n",
      "[+/- 12.7]\n",
      "[+/- 16.9]\n",
      "[+/- 22.9]\n",
      "[+/- 29.9]\n",
      "[+/- 41.3]\n",
      "[+/- 62.9]\n",
      "[+/- 98.5]\n",
      "[+/- 1.55e+2]\n",
      "[+/- 2.47e+2]\n",
      "[+/- 3.97e+2]\n",
      "[+/- 6.44e+2]\n",
      "[+/- 1.05e+3]\n",
      "[+/- 1.7e+3]\n",
      "[+/- 2.76e+3]\n",
      "[+/- 4.5e+3]\n",
      "[+/- 7.32e+3]\n",
      "[+/- 1.2e+4]\n",
      "[+/- 1.95e+4]\n",
      "[+/- 3.17e+4]\n",
      "[+/- 5.17e+4]\n",
      "[+/- 8.42e+4]\n",
      "[+/- 1.38e+5]\n"
     ]
    },
    {
     "data": {
      "text/plain": [
       "([+/- 1.38e+5], 32, [+/- 2.18e+5])"
      ]
     },
     "execution_count": 21,
     "metadata": {},
     "output_type": "execute_result"
    }
   ],
   "source": [
    "Q = M\n",
    "alpha = 0\n",
    "L = 0\n",
    "sumci = func_norm(Mfine[2:n,2:n])  \n",
    "for i in 1:10000\n",
    "    Q = Q*M;\n",
    "    println(func_norm(Q[2:n,2:n]))\n",
    "    alpha = func_norm(Q[2:n,2:n]) + cofine(sumci,i)\n",
    "    \n",
    "    L = i\n",
    "    if upperbound(real(alpha)) <= 1\n",
    "        return alpha, L \n",
    "    end\n",
    "    if upperbound(real(alpha)) > 10^5\n",
    "        return 0,0\n",
    "    end\n",
    "    sumci += alpha \n",
    "end\n",
    "return alpha, L, sumci"
   ]
  },
  {
   "cell_type": "code",
   "execution_count": null,
   "metadata": {},
   "outputs": [],
   "source": [
    "function convert_to_float(M, n)\n",
    "    Q = zeros(Complex{Float64},n,n)\n",
    "    ze = 0\n",
    "    zer = []\n",
    "    max_nnz_rows = 0\n",
    "    a = 0\n",
    "    b = 0\n",
    "    for i in 1:n\n",
    "        for j in 1:n\n",
    "            a = Float64(real(midpoint(M[i,j])))\n",
    "            b = Float64(imag(midpoint(M[i,j])))\n",
    "            Q[i,j] = a + im*b\n",
    "            if Q[i,j] == 0\n",
    "                ze = ze +1\n",
    "            end\n",
    "        end\n",
    "        push!(zer, ze)\n",
    "        ze = 0\n",
    "    end\n",
    "    max_nnz_rows = maximum(zer)\n",
    "    return Q#, max_nnz_rows\n",
    "end"
   ]
  },
  {
   "cell_type": "code",
   "execution_count": null,
   "metadata": {},
   "outputs": [],
   "source": [
    "function measure(x,v)\n",
    "    t = real(v[1])\n",
    "    for i in 2:sizefine+1\n",
    "        a = 2*real(v[i])   \n",
    "        b = 2*imag(v[i]) \n",
    "        k = idx_to_freq(i,n)\n",
    "        t += a*cos(2*pi*x*k) - b*sin(2*pi*x*k)\n",
    "    end\n",
    "    return t\n",
    "end"
   ]
  },
  {
   "cell_type": "code",
   "execution_count": null,
   "metadata": {},
   "outputs": [],
   "source": [
    "Z = convert_to_float(Mfine, nfine)\n",
    "v = eigvecs(Z)[:,nfine]\n",
    "p = 50000\n",
    "x = range(0,1, length = p)\n",
    "y = zeros(p)\n",
    "for i in 1:p\n",
    "    y[i] = measure(x[i],v)\n",
    "end\n",
    "plot(x,y,ylims=(0,5),fmt = :png)#,xticks=25:5:75)"
   ]
  },
  {
   "cell_type": "code",
   "execution_count": null,
   "metadata": {
    "scrolled": true
   },
   "outputs": [],
   "source": [
    "eigvals(Z)[nfine]"
   ]
  },
  {
   "cell_type": "code",
   "execution_count": null,
   "metadata": {},
   "outputs": [],
   "source": [
    "function appr_error(m)\n",
    "    return ((sumci)/(1-alpha))*(1+Gamma(sigma,m)+(1/(sigma*sqrt(2*pi))))* Gamma(sigma,m)\n",
    "end"
   ]
  },
  {
   "cell_type": "code",
   "execution_count": null,
   "metadata": {},
   "outputs": [],
   "source": [
    "error = appr_error(sizefine) + n*Gamma(sigma,N) + ((sumci)/(1-alpha))(eps + 4*Gamma(sigma,sizefine))"
   ]
  },
  {
   "cell_type": "code",
   "execution_count": null,
   "metadata": {},
   "outputs": [],
   "source": []
  }
 ],
 "metadata": {
  "kernelspec": {
   "display_name": "Julia 1.5.3",
   "language": "julia",
   "name": "julia-1.5"
  },
  "language_info": {
   "file_extension": ".jl",
   "mimetype": "application/julia",
   "name": "julia",
   "version": "1.2.0"
  }
 },
 "nbformat": 4,
 "nbformat_minor": 2
}
